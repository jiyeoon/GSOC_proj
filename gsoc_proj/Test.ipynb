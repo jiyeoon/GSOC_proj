{
 "cells": [
  {
   "cell_type": "code",
   "execution_count": 1,
   "metadata": {},
   "outputs": [],
   "source": [
    "import os"
   ]
  },
  {
   "cell_type": "code",
   "execution_count": 5,
   "metadata": {},
   "outputs": [
    {
     "name": "stdout",
     "output_type": "stream",
     "text": [
      "Requirement already satisfied: tensorflow in /Users/jiyeonlee/opt/anaconda3/envs/gsoc/lib/python3.6/site-packages (2.0.0)\n",
      "Requirement already satisfied: numpy<2.0,>=1.16.0 in /Users/jiyeonlee/opt/anaconda3/envs/gsoc/lib/python3.6/site-packages (from tensorflow) (1.19.2)\n",
      "Requirement already satisfied: keras-applications>=1.0.8 in /Users/jiyeonlee/opt/anaconda3/envs/gsoc/lib/python3.6/site-packages (from tensorflow) (1.0.8)\n",
      "Requirement already satisfied: wrapt>=1.11.1 in /Users/jiyeonlee/opt/anaconda3/envs/gsoc/lib/python3.6/site-packages (from tensorflow) (1.12.1)\n",
      "Requirement already satisfied: tensorflow-estimator<2.1.0,>=2.0.0 in /Users/jiyeonlee/opt/anaconda3/envs/gsoc/lib/python3.6/site-packages (from tensorflow) (2.0.0)\n",
      "Requirement already satisfied: protobuf>=3.6.1 in /Users/jiyeonlee/opt/anaconda3/envs/gsoc/lib/python3.6/site-packages (from tensorflow) (3.14.0)\n",
      "Requirement already satisfied: six>=1.10.0 in /Users/jiyeonlee/opt/anaconda3/envs/gsoc/lib/python3.6/site-packages (from tensorflow) (1.15.0)\n",
      "Requirement already satisfied: wheel>=0.26 in /Users/jiyeonlee/opt/anaconda3/envs/gsoc/lib/python3.6/site-packages (from tensorflow) (0.36.2)\n",
      "Requirement already satisfied: google-pasta>=0.1.6 in /Users/jiyeonlee/opt/anaconda3/envs/gsoc/lib/python3.6/site-packages (from tensorflow) (0.2.0)\n",
      "Requirement already satisfied: termcolor>=1.1.0 in /Users/jiyeonlee/opt/anaconda3/envs/gsoc/lib/python3.6/site-packages (from tensorflow) (1.1.0)\n",
      "Requirement already satisfied: opt-einsum>=2.3.2 in /Users/jiyeonlee/opt/anaconda3/envs/gsoc/lib/python3.6/site-packages (from tensorflow) (3.3.0)\n",
      "Requirement already satisfied: astor>=0.6.0 in /Users/jiyeonlee/opt/anaconda3/envs/gsoc/lib/python3.6/site-packages (from tensorflow) (0.8.1)\n",
      "Requirement already satisfied: keras-preprocessing>=1.0.5 in /Users/jiyeonlee/opt/anaconda3/envs/gsoc/lib/python3.6/site-packages (from tensorflow) (1.1.2)\n",
      "Requirement already satisfied: gast==0.2.2 in /Users/jiyeonlee/opt/anaconda3/envs/gsoc/lib/python3.6/site-packages (from tensorflow) (0.2.2)\n",
      "Requirement already satisfied: tensorboard<2.1.0,>=2.0.0 in /Users/jiyeonlee/opt/anaconda3/envs/gsoc/lib/python3.6/site-packages (from tensorflow) (2.0.0)\n",
      "Requirement already satisfied: absl-py>=0.7.0 in /Users/jiyeonlee/opt/anaconda3/envs/gsoc/lib/python3.6/site-packages (from tensorflow) (0.12.0)\n",
      "Requirement already satisfied: grpcio>=1.8.6 in /Users/jiyeonlee/opt/anaconda3/envs/gsoc/lib/python3.6/site-packages (from tensorflow) (1.36.1)\n",
      "Requirement already satisfied: h5py in /Users/jiyeonlee/opt/anaconda3/envs/gsoc/lib/python3.6/site-packages (from keras-applications>=1.0.8->tensorflow) (2.10.0)\n",
      "Requirement already satisfied: setuptools>=41.0.0 in /Users/jiyeonlee/opt/anaconda3/envs/gsoc/lib/python3.6/site-packages (from tensorboard<2.1.0,>=2.0.0->tensorflow) (52.0.0.post20210125)\n",
      "Requirement already satisfied: markdown>=2.6.8 in /Users/jiyeonlee/opt/anaconda3/envs/gsoc/lib/python3.6/site-packages (from tensorboard<2.1.0,>=2.0.0->tensorflow) (3.3.4)\n",
      "Requirement already satisfied: werkzeug>=0.11.15 in /Users/jiyeonlee/opt/anaconda3/envs/gsoc/lib/python3.6/site-packages (from tensorboard<2.1.0,>=2.0.0->tensorflow) (1.0.1)\n",
      "Requirement already satisfied: importlib-metadata in /Users/jiyeonlee/opt/anaconda3/envs/gsoc/lib/python3.6/site-packages (from markdown>=2.6.8->tensorboard<2.1.0,>=2.0.0->tensorflow) (3.10.0)\n",
      "Requirement already satisfied: zipp>=0.5 in /Users/jiyeonlee/opt/anaconda3/envs/gsoc/lib/python3.6/site-packages (from importlib-metadata->markdown>=2.6.8->tensorboard<2.1.0,>=2.0.0->tensorflow) (3.4.1)\n",
      "Requirement already satisfied: typing-extensions>=3.6.4 in /Users/jiyeonlee/opt/anaconda3/envs/gsoc/lib/python3.6/site-packages (from importlib-metadata->markdown>=2.6.8->tensorboard<2.1.0,>=2.0.0->tensorflow) (3.7.4.3)\n"
     ]
    }
   ],
   "source": [
    "!pip install tensorflow"
   ]
  },
  {
   "cell_type": "code",
   "execution_count": 6,
   "metadata": {},
   "outputs": [
    {
     "ename": "ImportError",
     "evalue": "cannot import name 'function_pb2'",
     "output_type": "error",
     "traceback": [
      "\u001b[0;31m---------------------------------------------------------------------------\u001b[0m",
      "\u001b[0;31mImportError\u001b[0m                               Traceback (most recent call last)",
      "\u001b[0;32m<ipython-input-6-d6579f534729>\u001b[0m in \u001b[0;36m<module>\u001b[0;34m\u001b[0m\n\u001b[0;32m----> 1\u001b[0;31m \u001b[0;32mimport\u001b[0m \u001b[0mtensorflow\u001b[0m\u001b[0;34m\u001b[0m\u001b[0;34m\u001b[0m\u001b[0m\n\u001b[0m",
      "\u001b[0;32m~/Documents/GitHub/tensorflow/tensorflow/__init__.py\u001b[0m in \u001b[0;36m<module>\u001b[0;34m\u001b[0m\n\u001b[1;32m     22\u001b[0m \u001b[0;34m\u001b[0m\u001b[0m\n\u001b[1;32m     23\u001b[0m \u001b[0;31m# pylint: disable=g-bad-import-order\u001b[0m\u001b[0;34m\u001b[0m\u001b[0;34m\u001b[0m\u001b[0;34m\u001b[0m\u001b[0m\n\u001b[0;32m---> 24\u001b[0;31m \u001b[0;32mfrom\u001b[0m \u001b[0mtensorflow\u001b[0m\u001b[0;34m.\u001b[0m\u001b[0mpython\u001b[0m \u001b[0;32mimport\u001b[0m \u001b[0mpywrap_tensorflow\u001b[0m  \u001b[0;31m# pylint: disable=unused-import\u001b[0m\u001b[0;34m\u001b[0m\u001b[0;34m\u001b[0m\u001b[0m\n\u001b[0m\u001b[1;32m     25\u001b[0m \u001b[0;34m\u001b[0m\u001b[0m\n\u001b[1;32m     26\u001b[0m \u001b[0;32mfrom\u001b[0m \u001b[0mtensorflow\u001b[0m\u001b[0;34m.\u001b[0m\u001b[0mpython\u001b[0m\u001b[0;34m.\u001b[0m\u001b[0mplatform\u001b[0m \u001b[0;32mimport\u001b[0m \u001b[0mflags\u001b[0m  \u001b[0;31m# pylint: disable=g-import-not-at-top\u001b[0m\u001b[0;34m\u001b[0m\u001b[0;34m\u001b[0m\u001b[0m\n",
      "\u001b[0;32m~/Documents/GitHub/tensorflow/tensorflow/python/__init__.py\u001b[0m in \u001b[0;36m<module>\u001b[0;34m\u001b[0m\n\u001b[1;32m     38\u001b[0m \u001b[0;31m# pylint: disable=wildcard-import,g-bad-import-order,g-import-not-at-top\u001b[0m\u001b[0;34m\u001b[0m\u001b[0;34m\u001b[0m\u001b[0;34m\u001b[0m\u001b[0m\n\u001b[1;32m     39\u001b[0m \u001b[0;34m\u001b[0m\u001b[0m\n\u001b[0;32m---> 40\u001b[0;31m \u001b[0;32mfrom\u001b[0m \u001b[0mtensorflow\u001b[0m\u001b[0;34m.\u001b[0m\u001b[0mpython\u001b[0m\u001b[0;34m.\u001b[0m\u001b[0meager\u001b[0m \u001b[0;32mimport\u001b[0m \u001b[0mcontext\u001b[0m\u001b[0;34m\u001b[0m\u001b[0;34m\u001b[0m\u001b[0m\n\u001b[0m\u001b[1;32m     41\u001b[0m \u001b[0;32mfrom\u001b[0m \u001b[0mtensorflow\u001b[0m\u001b[0;34m.\u001b[0m\u001b[0mpython\u001b[0m \u001b[0;32mimport\u001b[0m \u001b[0mpywrap_tensorflow\u001b[0m \u001b[0;32mas\u001b[0m \u001b[0m_pywrap_tensorflow\u001b[0m\u001b[0;34m\u001b[0m\u001b[0;34m\u001b[0m\u001b[0m\n\u001b[1;32m     42\u001b[0m \u001b[0;34m\u001b[0m\u001b[0m\n",
      "\u001b[0;32m~/Documents/GitHub/tensorflow/tensorflow/python/eager/context.py\u001b[0m in \u001b[0;36m<module>\u001b[0;34m\u001b[0m\n\u001b[1;32m     30\u001b[0m \u001b[0;32mimport\u001b[0m \u001b[0msix\u001b[0m\u001b[0;34m\u001b[0m\u001b[0;34m\u001b[0m\u001b[0m\n\u001b[1;32m     31\u001b[0m \u001b[0;34m\u001b[0m\u001b[0m\n\u001b[0;32m---> 32\u001b[0;31m \u001b[0;32mfrom\u001b[0m \u001b[0mtensorflow\u001b[0m\u001b[0;34m.\u001b[0m\u001b[0mcore\u001b[0m\u001b[0;34m.\u001b[0m\u001b[0mframework\u001b[0m \u001b[0;32mimport\u001b[0m \u001b[0mfunction_pb2\u001b[0m\u001b[0;34m\u001b[0m\u001b[0;34m\u001b[0m\u001b[0m\n\u001b[0m\u001b[1;32m     33\u001b[0m \u001b[0;32mfrom\u001b[0m \u001b[0mtensorflow\u001b[0m\u001b[0;34m.\u001b[0m\u001b[0mcore\u001b[0m\u001b[0;34m.\u001b[0m\u001b[0mprotobuf\u001b[0m \u001b[0;32mimport\u001b[0m \u001b[0mconfig_pb2\u001b[0m\u001b[0;34m\u001b[0m\u001b[0;34m\u001b[0m\u001b[0m\n\u001b[1;32m     34\u001b[0m \u001b[0;32mfrom\u001b[0m \u001b[0mtensorflow\u001b[0m\u001b[0;34m.\u001b[0m\u001b[0mcore\u001b[0m\u001b[0;34m.\u001b[0m\u001b[0mprotobuf\u001b[0m \u001b[0;32mimport\u001b[0m \u001b[0mrewriter_config_pb2\u001b[0m\u001b[0;34m\u001b[0m\u001b[0;34m\u001b[0m\u001b[0m\n",
      "\u001b[0;31mImportError\u001b[0m: cannot import name 'function_pb2'"
     ]
    }
   ],
   "source": [
    "import tensorflow"
   ]
  },
  {
   "cell_type": "code",
   "execution_count": null,
   "metadata": {},
   "outputs": [],
   "source": []
  }
 ],
 "metadata": {
  "kernelspec": {
   "display_name": "Python 3",
   "language": "python",
   "name": "python3"
  },
  "language_info": {
   "codemirror_mode": {
    "name": "ipython",
    "version": 3
   },
   "file_extension": ".py",
   "mimetype": "text/x-python",
   "name": "python",
   "nbconvert_exporter": "python",
   "pygments_lexer": "ipython3",
   "version": "3.6.13"
  }
 },
 "nbformat": 4,
 "nbformat_minor": 4
}
