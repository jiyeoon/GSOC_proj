{
 "cells": [
  {
   "cell_type": "code",
   "execution_count": 3,
   "id": "41581733-6209-4c52-a827-bd77974b32b0",
   "metadata": {},
   "outputs": [],
   "source": [
    "import os\n",
    "\n",
    "import numpy as np\n",
    "import pandas as pd\n",
    "import tensorflow as tf\n",
    "from tensorflow import keras"
   ]
  },
  {
   "cell_type": "code",
   "execution_count": 4,
   "id": "e1859d69-bc08-45bd-886e-ce24a8ca0501",
   "metadata": {},
   "outputs": [
    {
     "name": "stdout",
     "output_type": "stream",
     "text": [
      "Model: \"sequential\"\n",
      "_________________________________________________________________\n",
      "Layer (type)                 Output Shape              Param #   \n",
      "=================================================================\n",
      "conv2d (Conv2D)              (None, 112, 112, 32)      896       \n",
      "=================================================================\n",
      "Total params: 896\n",
      "Trainable params: 896\n",
      "Non-trainable params: 0\n",
      "_________________________________________________________________\n"
     ]
    }
   ],
   "source": [
    "model = keras.models.Sequential([\n",
    "    keras.layers.Conv2D(filters=32, kernel_size=3, padding='same', activation='relu', input_shape=(112, 112, 3)),\n",
    "])\n"
   ]
  },
  {
   "cell_type": "code",
   "execution_count": 5,
   "id": "6588db60-208d-42ab-9f6b-b8d00644c67e",
   "metadata": {},
   "outputs": [
    {
     "name": "stdout",
     "output_type": "stream",
     "text": [
      "WARNING:tensorflow:Compiled the loaded model, but the compiled metrics have yet to be built. `model.compile_metrics` will be empty until you train or evaluate the model.\n",
      "INFO:tensorflow:Assets written to: /var/folders/m0/rdxcs9f919x3p29r3c4mvz7w0000gn/T/tmpkpgtt6tu/assets\n"
     ]
    }
   ],
   "source": [
    "converter = tf.lite.TFLiteConverter.from_keras_model(model)\n",
    "tflite_model = converter.convert()\n",
    "\n",
    "with open('./MODELS/conv2d.tflite', 'wb') as f:\n",
    "    f.write(tflite_model)"
   ]
  },
  {
   "cell_type": "markdown",
   "id": "6f3f09dc-3e7c-4930-85fb-59ab6c39d61c",
   "metadata": {},
   "source": [
    "그래서 해야할것을 조금이라도 정리해보자면..\n",
    "\n",
    "1. 모델을 여러개 열심히 만든다 (up to 1000개? 너무 많은거 아니념)\n",
    "2. "
   ]
  },
  {
   "cell_type": "code",
   "execution_count": 34,
   "id": "6cccb564-a968-42ad-b62b-e368ec2905cb",
   "metadata": {},
   "outputs": [],
   "source": [
    "import os\n",
    "import numpy as np\n",
    "import tensorflow as tf\n",
    "from tensorflow import keras\n",
    "\n",
    "kernel_size = [2*i + 1 for i in range(10)]\n",
    "filter_size = [2**i for i in range(4, 8)]\n",
    "input_img_size += [(i, i, 3) for i in range(32, 512)]"
   ]
  },
  {
   "cell_type": "code",
   "execution_count": 35,
   "id": "85531ff9-af90-4972-a431-f3c0951718ef",
   "metadata": {},
   "outputs": [],
   "source": [
    "from itertools import product\n",
    "\n",
    "comb = list(product(kernel_size, filter_size, input_img_size))"
   ]
  },
  {
   "cell_type": "code",
   "execution_count": 36,
   "id": "da28fbcd-b0b4-4d24-a118-5546f07de3b8",
   "metadata": {},
   "outputs": [
    {
     "name": "stdout",
     "output_type": "stream",
     "text": [
      "116960\n"
     ]
    },
    {
     "data": {
      "text/plain": [
       "[(1, 16, (16, 16, 3)),\n",
       " (1, 16, (32, 32, 3)),\n",
       " (1, 16, (64, 64, 3)),\n",
       " (1, 16, (128, 128, 3)),\n",
       " (1, 16, (256, 256, 3))]"
      ]
     },
     "execution_count": 36,
     "metadata": {},
     "output_type": "execute_result"
    }
   ],
   "source": [
    "print(len(comb))\n",
    "comb[:5]"
   ]
  },
  {
   "cell_type": "code",
   "execution_count": 31,
   "id": "da9ff582-9694-4a94-a082-400a2e9de2ec",
   "metadata": {},
   "outputs": [],
   "source": [
    "comb = comb[:5]"
   ]
  },
  {
   "cell_type": "code",
   "execution_count": 38,
   "id": "054156b8-f0af-472a-95cb-16ea2abac235",
   "metadata": {},
   "outputs": [],
   "source": [
    "data_frame = {\n",
    "    'tflite_name' : [],\n",
    "    'kernel' : [],\n",
    "    'filter' : [],\n",
    "    'input_shape' : [],\n",
    "    'latency' : [], # target value\n",
    "}"
   ]
  },
  {
   "cell_type": "code",
   "execution_count": 40,
   "id": "6083e6d2-3b84-43f5-8ef0-ec875484d72f",
   "metadata": {},
   "outputs": [],
   "source": [
    "import subprocess\n",
    "def run_bazel(model_path):\n",
    "    proc = subprocess.Popen(\n",
    "        ['gsoc_proj/run.sh ./gsoc_proj/{}'.format(model_path)],\n",
    "        stdout = subprocess.PIPE\n",
    "    )\n",
    "    out, err = proc.communicate()\n",
    "    print(out.decode('utf-8'))"
   ]
  },
  {
   "cell_type": "code",
   "execution_count": null,
   "id": "b2ddd694-b4ed-4873-89b8-d433c4aa31ff",
   "metadata": {},
   "outputs": [],
   "source": [
    "run_bazel(./gsoc_proj)"
   ]
  },
  {
   "cell_type": "code",
   "execution_count": 33,
   "id": "7a83cc7b-399b-49d6-a963-a34234603b15",
   "metadata": {},
   "outputs": [
    {
     "name": "stdout",
     "output_type": "stream",
     "text": [
      "WARNING:tensorflow:Compiled the loaded model, but the compiled metrics have yet to be built. `model.compile_metrics` will be empty until you train or evaluate the model.\n"
     ]
    },
    {
     "name": "stderr",
     "output_type": "stream",
     "text": [
      "WARNING:tensorflow:Compiled the loaded model, but the compiled metrics have yet to be built. `model.compile_metrics` will be empty until you train or evaluate the model.\n"
     ]
    },
    {
     "name": "stdout",
     "output_type": "stream",
     "text": [
      "INFO:tensorflow:Assets written to: /var/folders/m0/rdxcs9f919x3p29r3c4mvz7w0000gn/T/tmp993dina7/assets\n"
     ]
    },
    {
     "name": "stderr",
     "output_type": "stream",
     "text": [
      "INFO:tensorflow:Assets written to: /var/folders/m0/rdxcs9f919x3p29r3c4mvz7w0000gn/T/tmp993dina7/assets\n"
     ]
    },
    {
     "name": "stdout",
     "output_type": "stream",
     "text": [
      "WARNING:tensorflow:Compiled the loaded model, but the compiled metrics have yet to be built. `model.compile_metrics` will be empty until you train or evaluate the model.\n"
     ]
    },
    {
     "name": "stderr",
     "output_type": "stream",
     "text": [
      "WARNING:tensorflow:Compiled the loaded model, but the compiled metrics have yet to be built. `model.compile_metrics` will be empty until you train or evaluate the model.\n"
     ]
    },
    {
     "name": "stdout",
     "output_type": "stream",
     "text": [
      "INFO:tensorflow:Assets written to: /var/folders/m0/rdxcs9f919x3p29r3c4mvz7w0000gn/T/tmpl7uw55ey/assets\n"
     ]
    },
    {
     "name": "stderr",
     "output_type": "stream",
     "text": [
      "INFO:tensorflow:Assets written to: /var/folders/m0/rdxcs9f919x3p29r3c4mvz7w0000gn/T/tmpl7uw55ey/assets\n"
     ]
    },
    {
     "name": "stdout",
     "output_type": "stream",
     "text": [
      "WARNING:tensorflow:Compiled the loaded model, but the compiled metrics have yet to be built. `model.compile_metrics` will be empty until you train or evaluate the model.\n"
     ]
    },
    {
     "name": "stderr",
     "output_type": "stream",
     "text": [
      "WARNING:tensorflow:Compiled the loaded model, but the compiled metrics have yet to be built. `model.compile_metrics` will be empty until you train or evaluate the model.\n"
     ]
    },
    {
     "name": "stdout",
     "output_type": "stream",
     "text": [
      "INFO:tensorflow:Assets written to: /var/folders/m0/rdxcs9f919x3p29r3c4mvz7w0000gn/T/tmpgdzpmzmd/assets\n"
     ]
    },
    {
     "name": "stderr",
     "output_type": "stream",
     "text": [
      "INFO:tensorflow:Assets written to: /var/folders/m0/rdxcs9f919x3p29r3c4mvz7w0000gn/T/tmpgdzpmzmd/assets\n"
     ]
    },
    {
     "name": "stdout",
     "output_type": "stream",
     "text": [
      "WARNING:tensorflow:Compiled the loaded model, but the compiled metrics have yet to be built. `model.compile_metrics` will be empty until you train or evaluate the model.\n"
     ]
    },
    {
     "name": "stderr",
     "output_type": "stream",
     "text": [
      "WARNING:tensorflow:Compiled the loaded model, but the compiled metrics have yet to be built. `model.compile_metrics` will be empty until you train or evaluate the model.\n"
     ]
    },
    {
     "name": "stdout",
     "output_type": "stream",
     "text": [
      "INFO:tensorflow:Assets written to: /var/folders/m0/rdxcs9f919x3p29r3c4mvz7w0000gn/T/tmp4es70dmp/assets\n"
     ]
    },
    {
     "name": "stderr",
     "output_type": "stream",
     "text": [
      "INFO:tensorflow:Assets written to: /var/folders/m0/rdxcs9f919x3p29r3c4mvz7w0000gn/T/tmp4es70dmp/assets\n"
     ]
    },
    {
     "name": "stdout",
     "output_type": "stream",
     "text": [
      "WARNING:tensorflow:Compiled the loaded model, but the compiled metrics have yet to be built. `model.compile_metrics` will be empty until you train or evaluate the model.\n"
     ]
    },
    {
     "name": "stderr",
     "output_type": "stream",
     "text": [
      "WARNING:tensorflow:Compiled the loaded model, but the compiled metrics have yet to be built. `model.compile_metrics` will be empty until you train or evaluate the model.\n"
     ]
    },
    {
     "name": "stdout",
     "output_type": "stream",
     "text": [
      "INFO:tensorflow:Assets written to: /var/folders/m0/rdxcs9f919x3p29r3c4mvz7w0000gn/T/tmplb2x8hqf/assets\n"
     ]
    },
    {
     "name": "stderr",
     "output_type": "stream",
     "text": [
      "INFO:tensorflow:Assets written to: /var/folders/m0/rdxcs9f919x3p29r3c4mvz7w0000gn/T/tmplb2x8hqf/assets\n"
     ]
    }
   ],
   "source": [
    "import subprocess\n",
    "for com in comb:\n",
    "    _kernel, _filter, _input_shape = com\n",
    "    model = keras.Sequential([\n",
    "        keras.layers.Conv2D(filters=_filter, kernel_size=_kernel, padding='same', activation='relu', input_shape=_input_shape),\n",
    "    ])\n",
    "    converter = tf.lite.TFLiteConverter.from_keras_model(model)\n",
    "    tflite_model = converter.convert()\n",
    "    \n",
    "    model_name = \"kernel_{}_filter_{}_input_shape_{}.tflite\".format(_kernel, _filter, _input_shape)\n",
    "    with open(\"./MODELS/\" + model_name, 'wb') as f:\n",
    "        f.write(tflite_model)\n",
    "    # json? 만들기.. \n",
    "    data_frame['tflite_name'].append(model_name)\n",
    "    data_frame['kernel'].append(_kernel)\n",
    "    data_frame['filter'].append(_fileter)\n",
    "    data_frame['input_shape'].append(_input_shape)\n",
    "    \n",
    "    "
   ]
  },
  {
   "cell_type": "code",
   "execution_count": 41,
   "id": "aba9032b-af11-418c-bf94-75040997354f",
   "metadata": {},
   "outputs": [
    {
     "ename": "TypeError",
     "evalue": "bufsize must be an integer",
     "output_type": "error",
     "traceback": [
      "\u001b[0;31m---------------------------------------------------------------------------\u001b[0m",
      "\u001b[0;31mTypeError\u001b[0m                                 Traceback (most recent call last)",
      "\u001b[0;32m<ipython-input-41-63023aeebe02>\u001b[0m in \u001b[0;36m<module>\u001b[0;34m\u001b[0m\n\u001b[1;32m      2\u001b[0m     \u001b[0;34m[\u001b[0m\u001b[0;34m'cd ..'\u001b[0m\u001b[0;34m]\u001b[0m\u001b[0;34m,\u001b[0m\u001b[0;34m\u001b[0m\u001b[0;34m\u001b[0m\u001b[0m\n\u001b[1;32m      3\u001b[0m     \u001b[0;34m[\u001b[0m\u001b[0;34m'gsoc_proj/run.sh ./gsoc_proj/conv_2d_tflite'\u001b[0m\u001b[0;34m]\u001b[0m\u001b[0;34m,\u001b[0m\u001b[0;34m\u001b[0m\u001b[0;34m\u001b[0m\u001b[0m\n\u001b[0;32m----> 4\u001b[0;31m     \u001b[0mstdout\u001b[0m \u001b[0;34m=\u001b[0m \u001b[0msubprocess\u001b[0m\u001b[0;34m.\u001b[0m\u001b[0mPIPE\u001b[0m\u001b[0;34m\u001b[0m\u001b[0;34m\u001b[0m\u001b[0m\n\u001b[0m\u001b[1;32m      5\u001b[0m )\n\u001b[1;32m      6\u001b[0m \u001b[0mout\u001b[0m\u001b[0;34m,\u001b[0m \u001b[0merr\u001b[0m \u001b[0;34m=\u001b[0m \u001b[0mproc\u001b[0m\u001b[0;34m.\u001b[0m\u001b[0mcommunicate\u001b[0m\u001b[0;34m(\u001b[0m\u001b[0;34m)\u001b[0m\u001b[0;34m\u001b[0m\u001b[0;34m\u001b[0m\u001b[0m\n",
      "\u001b[0;32m~/opt/anaconda3/envs/gsoc/lib/python3.6/subprocess.py\u001b[0m in \u001b[0;36m__init__\u001b[0;34m(self, args, bufsize, executable, stdin, stdout, stderr, preexec_fn, close_fds, shell, cwd, env, universal_newlines, startupinfo, creationflags, restore_signals, start_new_session, pass_fds, encoding, errors)\u001b[0m\n\u001b[1;32m    627\u001b[0m             \u001b[0mbufsize\u001b[0m \u001b[0;34m=\u001b[0m \u001b[0;34m-\u001b[0m\u001b[0;36m1\u001b[0m  \u001b[0;31m# Restore default\u001b[0m\u001b[0;34m\u001b[0m\u001b[0;34m\u001b[0m\u001b[0m\n\u001b[1;32m    628\u001b[0m         \u001b[0;32mif\u001b[0m \u001b[0;32mnot\u001b[0m \u001b[0misinstance\u001b[0m\u001b[0;34m(\u001b[0m\u001b[0mbufsize\u001b[0m\u001b[0;34m,\u001b[0m \u001b[0mint\u001b[0m\u001b[0;34m)\u001b[0m\u001b[0;34m:\u001b[0m\u001b[0;34m\u001b[0m\u001b[0;34m\u001b[0m\u001b[0m\n\u001b[0;32m--> 629\u001b[0;31m             \u001b[0;32mraise\u001b[0m \u001b[0mTypeError\u001b[0m\u001b[0;34m(\u001b[0m\u001b[0;34m\"bufsize must be an integer\"\u001b[0m\u001b[0;34m)\u001b[0m\u001b[0;34m\u001b[0m\u001b[0;34m\u001b[0m\u001b[0m\n\u001b[0m\u001b[1;32m    630\u001b[0m \u001b[0;34m\u001b[0m\u001b[0m\n\u001b[1;32m    631\u001b[0m         \u001b[0;32mif\u001b[0m \u001b[0m_mswindows\u001b[0m\u001b[0;34m:\u001b[0m\u001b[0;34m\u001b[0m\u001b[0;34m\u001b[0m\u001b[0m\n",
      "\u001b[0;31mTypeError\u001b[0m: bufsize must be an integer"
     ]
    }
   ],
   "source": [
    "proc = subprocess.Popen(\n",
    "    ['cd ..'],\n",
    "    ['gsoc_proj/run.sh ./gsoc_proj/conv_2d_tflite'],\n",
    "    stdout = subprocess.PIPE\n",
    ")\n",
    "out, err = proc.communicate()\n",
    "print(out.decode('utf-8'))"
   ]
  },
  {
   "cell_type": "code",
   "execution_count": null,
   "id": "88ee13fb-a76e-419d-9c92-4a7ef931f627",
   "metadata": {},
   "outputs": [],
   "source": [
    "from tflite_support import flatbuffers\n",
    "from tflite_support import metadata as _metadata\n",
    "from tflite_support import metadata_schema_py_generated as _metadata_fb"
   ]
  },
  {
   "cell_type": "code",
   "execution_count": 42,
   "id": "a7e770cd-cb1a-4733-abe3-b33eea8bb068",
   "metadata": {},
   "outputs": [],
   "source": [
    "from tensorflow.lite.python import schema_py_generated as schema_fb"
   ]
  },
  {
   "cell_type": "code",
   "execution_count": 46,
   "id": "35b633cb-f165-4742-ad2e-74b8b9ead4ed",
   "metadata": {},
   "outputs": [],
   "source": [
    "tflite_input = './conv_2d.tflite'"
   ]
  },
  {
   "cell_type": "code",
   "execution_count": 48,
   "id": "838391a8-b318-47ee-bb61-f1e91bb85a69",
   "metadata": {},
   "outputs": [],
   "source": [
    "with open(tflite_input, 'rb') as file_handle:\n",
    "    file_data = bytearray(file_handle.read())"
   ]
  },
  {
   "cell_type": "code",
   "execution_count": 51,
   "id": "66e9d57e-1c06-49d6-810c-05eb5914e238",
   "metadata": {},
   "outputs": [],
   "source": [
    "def CamelCaseToSnakeCase(camel_case_input):\n",
    "  \"\"\"Converts an identifier in CamelCase to snake_case.\"\"\"\n",
    "  s1 = re.sub(\"(.)([A-Z][a-z]+)\", r\"\\1_\\2\", camel_case_input)\n",
    "  return re.sub(\"([a-z0-9])([A-Z])\", r\"\\1_\\2\", s1).lower()\n",
    "\n",
    "\n",
    "def FlatbufferToDict(fb, preserve_as_numpy):\n",
    "  \"\"\"Converts a hierarchy of FB objects into a nested dict.\n",
    "  We avoid transforming big parts of the flat buffer into python arrays. This\n",
    "  speeds conversion from ten minutes to a few seconds on big graphs.\n",
    "  Args:\n",
    "    fb: a flat buffer structure. (i.e. ModelT)\n",
    "    preserve_as_numpy: true if all downstream np.arrays should be preserved.\n",
    "      false if all downstream np.array should become python arrays\n",
    "  Returns:\n",
    "    A dictionary representing the flatbuffer rather than a flatbuffer object.\n",
    "  \"\"\"\n",
    "  if isinstance(fb, int) or isinstance(fb, float) or isinstance(fb, str):\n",
    "    return fb\n",
    "  elif hasattr(fb, \"__dict__\"):\n",
    "    result = {}\n",
    "    for attribute_name in dir(fb):\n",
    "      attribute = fb.__getattribute__(attribute_name)\n",
    "      if not callable(attribute) and attribute_name[0] != \"_\":\n",
    "        snake_name = CamelCaseToSnakeCase(attribute_name)\n",
    "        preserve = True if attribute_name == \"buffers\" else preserve_as_numpy\n",
    "        result[snake_name] = FlatbufferToDict(attribute, preserve)\n",
    "    return result\n",
    "  elif isinstance(fb, np.ndarray):\n",
    "    return fb if preserve_as_numpy else fb.tolist()\n",
    "  elif hasattr(fb, \"__len__\"):\n",
    "    return [FlatbufferToDict(entry, preserve_as_numpy) for entry in fb]\n",
    "  else:\n",
    "    return fb\n",
    "\n",
    "\n",
    "def CreateDictFromFlatbuffer(buffer_data):\n",
    "  model_obj = schema_fb.Model.GetRootAsModel(buffer_data, 0)\n",
    "  model = schema_fb.ModelT.InitFromObj(model_obj)\n",
    "  return FlatbufferToDict(model, preserve_as_numpy=False)"
   ]
  },
  {
   "cell_type": "code",
   "execution_count": 53,
   "id": "9b2b03cc-8dd9-4b65-85c7-4e537d6f5be2",
   "metadata": {},
   "outputs": [],
   "source": [
    "import re\n",
    "data = CreateDictFromFlatbuffer(file_data)"
   ]
  },
  {
   "cell_type": "code",
   "execution_count": 57,
   "id": "4bf3fe5d-a659-444a-9fca-cb6916a48ce3",
   "metadata": {},
   "outputs": [
    {
     "data": {
      "text/plain": [
       "dict_keys(['buffers', 'description', 'metadata', 'metadata_buffer', 'operator_codes', 'signature_defs', 'subgraphs', 'version'])"
      ]
     },
     "execution_count": 57,
     "metadata": {},
     "output_type": "execute_result"
    }
   ],
   "source": [
    "data.keys()"
   ]
  },
  {
   "cell_type": "code",
   "execution_count": 66,
   "id": "e84259ab-036f-4e56-a3c1-ab9866db2dd8",
   "metadata": {},
   "outputs": [
    {
     "name": "stdout",
     "output_type": "stream",
     "text": [
      "dict_keys(['inputs', 'name', 'operators', 'outputs', 'tensors'])\n"
     ]
    }
   ],
   "source": [
    "for dic in data['subgraphs']:\n",
    "    print(dic.keys())"
   ]
  },
  {
   "cell_type": "code",
   "execution_count": 59,
   "id": "8e43796d-da69-4950-928f-e3841f27180b",
   "metadata": {},
   "outputs": [],
   "source": [
    "data['metadata_buffer']"
   ]
  },
  {
   "cell_type": "code",
   "execution_count": 68,
   "id": "ae50a194-c5ab-4d19-9372-c4206a39d972",
   "metadata": {},
   "outputs": [
    {
     "data": {
      "text/plain": [
       "1"
      ]
     },
     "execution_count": 68,
     "metadata": {},
     "output_type": "execute_result"
    }
   ],
   "source": [
    "len(data['subgraphs'])"
   ]
  },
  {
   "cell_type": "code",
   "execution_count": 69,
   "id": "f158f35a-d8d5-402b-ae97-676dcc151a94",
   "metadata": {},
   "outputs": [
    {
     "data": {
      "text/plain": [
       "{'buffers': [{'data': None},\n",
       "  {'data': array([154, 224, 234, 190, 186, 156, 181,  62, 165,  62,  10,  64,  67,\n",
       "           95, 193, 191, 132,   0, 133, 190,  96,  33,  18,  63, 241, 171,\n",
       "           57,  64, 119,  46,  77,  64, 170, 189, 109, 191, 212, 110,  50,\n",
       "           64,  59, 158,  35,  64,  81, 135, 219,  61,  76, 231,  72,  64,\n",
       "           81, 186,  66,  64, 238, 177,  23,  64,  84, 240, 179,  60, 197,\n",
       "           50,  56, 192, 168, 143,  29,  64,  29, 151,  81,  64,  70,  95,\n",
       "           86,  64,  18, 153,  31, 191, 162,  34, 202, 191,   1,  96, 233,\n",
       "           63, 124,  27,  16,  64,  91,   9, 127,  63, 220, 173,  67,  64,\n",
       "           32, 192,  17,  64, 201,  95,   8,  64,  67, 240,  89,  64,  80,\n",
       "          206,  30,  64, 187, 245, 232,  63, 140, 255, 134,  63], dtype=uint8)},\n",
       "  {'data': None},\n",
       "  {'data': array([ 72, 153,  63, ..., 232,  41,  59], dtype=uint8)},\n",
       "  {'data': None}],\n",
       " 'description': [84,\n",
       "  79,\n",
       "  67,\n",
       "  79,\n",
       "  32,\n",
       "  67,\n",
       "  111,\n",
       "  110,\n",
       "  118,\n",
       "  101,\n",
       "  114,\n",
       "  116,\n",
       "  101,\n",
       "  100,\n",
       "  46],\n",
       " 'metadata': None,\n",
       " 'metadata_buffer': None,\n",
       " 'operator_codes': [{'builtin_code': 0,\n",
       "   'custom_code': None,\n",
       "   'deprecated_builtin_code': 3,\n",
       "   'version': 1}],\n",
       " 'signature_defs': None,\n",
       " 'subgraphs': [{'inputs': [3],\n",
       "   'name': None,\n",
       "   'operators': [{'builtin_options': {'dilation_h_factor': 1,\n",
       "      'dilation_w_factor': 1,\n",
       "      'fused_activation_function': 3,\n",
       "      'padding': 0,\n",
       "      'stride_h': 2,\n",
       "      'stride_w': 2},\n",
       "     'builtin_options_type': 1,\n",
       "     'custom_options': None,\n",
       "     'custom_options_format': 0,\n",
       "     'inputs': [3, 0, 2],\n",
       "     'intermediates': None,\n",
       "     'mutating_variable_inputs': None,\n",
       "     'opcode_index': 0,\n",
       "     'outputs': [1]}],\n",
       "   'outputs': [1],\n",
       "   'tensors': [{'buffer': 3,\n",
       "     'is_variable': False,\n",
       "     'name': [77,\n",
       "      111,\n",
       "      98,\n",
       "      105,\n",
       "      108,\n",
       "      101,\n",
       "      110,\n",
       "      101,\n",
       "      116,\n",
       "      86,\n",
       "      49,\n",
       "      47,\n",
       "      67,\n",
       "      111,\n",
       "      110,\n",
       "      118,\n",
       "      50,\n",
       "      100,\n",
       "      95,\n",
       "      48,\n",
       "      47,\n",
       "      119,\n",
       "      101,\n",
       "      105,\n",
       "      103,\n",
       "      104,\n",
       "      116,\n",
       "      115],\n",
       "     'quantization': {'details': None,\n",
       "      'details_type': 0,\n",
       "      'max': None,\n",
       "      'min': None,\n",
       "      'quantized_dimension': 0,\n",
       "      'scale': None,\n",
       "      'zero_point': None},\n",
       "     'shape': [32, 3, 3, 3],\n",
       "     'shape_signature': None,\n",
       "     'sparsity': None,\n",
       "     'type': 0},\n",
       "    {'buffer': 2,\n",
       "     'is_variable': False,\n",
       "     'name': [77,\n",
       "      111,\n",
       "      98,\n",
       "      105,\n",
       "      108,\n",
       "      101,\n",
       "      110,\n",
       "      101,\n",
       "      116,\n",
       "      86,\n",
       "      49,\n",
       "      47,\n",
       "      77,\n",
       "      111,\n",
       "      98,\n",
       "      105,\n",
       "      108,\n",
       "      101,\n",
       "      110,\n",
       "      101,\n",
       "      116,\n",
       "      86,\n",
       "      49,\n",
       "      47,\n",
       "      67,\n",
       "      111,\n",
       "      110,\n",
       "      118,\n",
       "      50,\n",
       "      100,\n",
       "      95,\n",
       "      48,\n",
       "      47,\n",
       "      82,\n",
       "      101,\n",
       "      108,\n",
       "      117,\n",
       "      54],\n",
       "     'quantization': {'details': None,\n",
       "      'details_type': 0,\n",
       "      'max': None,\n",
       "      'min': None,\n",
       "      'quantized_dimension': 0,\n",
       "      'scale': None,\n",
       "      'zero_point': None},\n",
       "     'shape': [1, 112, 112, 32],\n",
       "     'shape_signature': None,\n",
       "     'sparsity': None,\n",
       "     'type': 0},\n",
       "    {'buffer': 1,\n",
       "     'is_variable': False,\n",
       "     'name': [77,\n",
       "      111,\n",
       "      98,\n",
       "      105,\n",
       "      108,\n",
       "      101,\n",
       "      110,\n",
       "      101,\n",
       "      116,\n",
       "      86,\n",
       "      49,\n",
       "      47,\n",
       "      77,\n",
       "      111,\n",
       "      98,\n",
       "      105,\n",
       "      108,\n",
       "      101,\n",
       "      110,\n",
       "      101,\n",
       "      116,\n",
       "      86,\n",
       "      49,\n",
       "      47,\n",
       "      67,\n",
       "      111,\n",
       "      110,\n",
       "      118,\n",
       "      50,\n",
       "      100,\n",
       "      95,\n",
       "      48,\n",
       "      47,\n",
       "      99,\n",
       "      111,\n",
       "      110,\n",
       "      118,\n",
       "      111,\n",
       "      108,\n",
       "      117,\n",
       "      116,\n",
       "      105,\n",
       "      111,\n",
       "      110,\n",
       "      95,\n",
       "      98,\n",
       "      105,\n",
       "      97,\n",
       "      115],\n",
       "     'quantization': {'details': None,\n",
       "      'details_type': 0,\n",
       "      'max': None,\n",
       "      'min': None,\n",
       "      'quantized_dimension': 0,\n",
       "      'scale': None,\n",
       "      'zero_point': None},\n",
       "     'shape': [32],\n",
       "     'shape_signature': None,\n",
       "     'sparsity': None,\n",
       "     'type': 0},\n",
       "    {'buffer': 4,\n",
       "     'is_variable': False,\n",
       "     'name': [105, 110, 112, 117, 116],\n",
       "     'quantization': {'details': None,\n",
       "      'details_type': 0,\n",
       "      'max': [255.0],\n",
       "      'min': [0.0],\n",
       "      'quantized_dimension': 0,\n",
       "      'scale': None,\n",
       "      'zero_point': None},\n",
       "     'shape': [1, 224, 224, 3],\n",
       "     'shape_signature': None,\n",
       "     'sparsity': None,\n",
       "     'type': 0}]}],\n",
       " 'version': 3}"
      ]
     },
     "execution_count": 69,
     "metadata": {},
     "output_type": "execute_result"
    }
   ],
   "source": [
    "data"
   ]
  },
  {
   "cell_type": "code",
   "execution_count": 78,
   "id": "4990c17e-678f-4d44-96ee-d3b96de34a5c",
   "metadata": {},
   "outputs": [],
   "source": [
    "kernel_list = [1, 3, 5]\n",
    "filter_list = [16, 32, 64]\n",
    "input_hw = [8, 16, 32, 64]\n",
    "input_channels = [16, 32, 48]\n",
    "input_img_list = []\n",
    "for hw in input_hw:\n",
    "    for ch in input_channels:\n",
    "        input_img_list.append((ch, hw, hw))\n",
    "stride = [1, 2, 3]\n",
    "padding = ['same', 'valid']"
   ]
  },
  {
   "cell_type": "code",
   "execution_count": 77,
   "id": "1e494a9e-b4ba-4626-9df3-97046f7f2da2",
   "metadata": {},
   "outputs": [
    {
     "data": {
      "text/plain": [
       "648"
      ]
     },
     "execution_count": 77,
     "metadata": {},
     "output_type": "execute_result"
    }
   ],
   "source": [
    "from itertools import product\n",
    "len(list(product(kernel_list, filter_list, input_img_list, stride, padding)))"
   ]
  },
  {
   "cell_type": "code",
   "execution_count": null,
   "id": "fec17805-ce94-4bf7-809d-51ea0c9733b0",
   "metadata": {},
   "outputs": [],
   "source": []
  }
 ],
 "metadata": {
  "kernelspec": {
   "display_name": "Python 3",
   "language": "python",
   "name": "python3"
  },
  "language_info": {
   "codemirror_mode": {
    "name": "ipython",
    "version": 3
   },
   "file_extension": ".py",
   "mimetype": "text/x-python",
   "name": "python",
   "nbconvert_exporter": "python",
   "pygments_lexer": "ipython3",
   "version": "3.6.13"
  }
 },
 "nbformat": 4,
 "nbformat_minor": 5
}
